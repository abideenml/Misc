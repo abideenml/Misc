{
 "cells": [
  {
   "cell_type": "code",
   "execution_count": null,
   "id": "a9d938d3",
   "metadata": {},
   "outputs": [],
   "source": [
    "import torch\n",
    "from torch import nn\n",
    "from d2l import torch as d2l\n",
    "def dropout_layer(X, dropout):\n",
    "assert 0 <= dropout <= 1\n",
    "# In this case, all elements are dropped out\n",
    "if dropout == 1:\n",
    "return torch.zeros_like(X)\n",
    "# In this case, all elements are kept\n",
    "if dropout == 0:\n",
    "return X\n",
    "mask = (torch.rand(X.shape) > dropout).float()\n",
    "return mask * X / (1.0 - dropout)"
   ]
  },
  {
   "cell_type": "code",
   "execution_count": null,
   "id": "846ce675",
   "metadata": {},
   "outputs": [],
   "source": [
    "X= torch.arange(16, dtype = torch.float32).reshape((2, 8))\n",
    "print(X)\n",
    "print(dropout_layer(X, 0.))\n",
    "print(dropout_layer(X, 0.5))\n",
    "print(dropout_layer(X, 1.))"
   ]
  },
  {
   "cell_type": "code",
   "execution_count": null,
   "id": "2dbb21d1",
   "metadata": {},
   "outputs": [],
   "source": [
    "num_inputs, num_outputs, num_hiddens1, num_hiddens2 = 784, 10, 256, 256"
   ]
  },
  {
   "cell_type": "code",
   "execution_count": null,
   "id": "10f912e6",
   "metadata": {},
   "outputs": [],
   "source": [
    "dropout1, dropout2 = 0.2, 0.5\n",
    "class Net(nn.Module):\n",
    "def __init__(self, num_inputs, num_outputs, num_hiddens1, num_hiddens2,\n",
    "is_training = True):\n",
    "super(Net, self).__init__()\n",
    "self.num_inputs = num_inputs\n",
    "self.training = is_training\n",
    "self.lin1 = nn.Linear(num_inputs, num_hiddens1)\n",
    "self.lin2 = nn.Linear(num_hiddens1, num_hiddens2)\n",
    "self.lin3 = nn.Linear(num_hiddens2, num_outputs)\n",
    "self.relu = nn.ReLU()\n",
    "def forward(self, X):\n",
    "H1 = self.relu(self.lin1(X.reshape((-1, self.num_inputs))))\n",
    "# Use dropout only when training the model\n",
    "if self.training == True:\n",
    "# Add a dropout layer after the first fully connected layer\n",
    "H1 = dropout_layer(H1, dropout1)\n",
    "H2 = self.relu(self.lin2(H1))\n",
    "if self.training == True:\n",
    "    # Add a dropout layer after the second fully connected layer\n",
    "H2 = dropout_layer(H2, dropout2)\n",
    "out = self.lin3(H2)\n",
    "return out\n",
    "net = Net(num_inputs, num_outputs, num_hiddens1, num_hiddens2)\n"
   ]
  }
 ],
 "metadata": {
  "kernelspec": {
   "display_name": "Python 3 (ipykernel)",
   "language": "python",
   "name": "python3"
  },
  "language_info": {
   "codemirror_mode": {
    "name": "ipython",
    "version": 3
   },
   "file_extension": ".py",
   "mimetype": "text/x-python",
   "name": "python",
   "nbconvert_exporter": "python",
   "pygments_lexer": "ipython3",
   "version": "3.9.7"
  }
 },
 "nbformat": 4,
 "nbformat_minor": 5
}
