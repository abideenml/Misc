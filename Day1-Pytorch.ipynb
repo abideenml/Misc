{
 "cells": [
  {
   "cell_type": "code",
   "execution_count": null,
   "id": "07016c29",
   "metadata": {},
   "outputs": [],
   "source": [
    "import numpy as np\n",
    "import torch\n",
    "import torchvision\n",
    "from PIL import Image\n",
    "from torch import nn\n",
    "from torch.nn import functional as F\n",
    "from torch.utils import data\n",
    "from torchvision import transforms"
   ]
  },
  {
   "cell_type": "markdown",
   "id": "958e2b9f",
   "metadata": {},
   "source": [
    "Difference between Numpy array and Tensors?\n",
    "\n",
    "Numpy array does not support GPU computation while Tensors do. Tensor class also supports automatic differentiation. "
   ]
  },
  {
   "cell_type": "markdown",
   "id": "eca1ca59",
   "metadata": {},
   "source": [
    "# Math and Numerical Computing tools"
   ]
  },
  {
   "cell_type": "code",
   "execution_count": 8,
   "id": "4f6381df",
   "metadata": {},
   "outputs": [
    {
     "name": "stdout",
     "output_type": "stream",
     "text": [
      "tensor([ 0.,  1.,  2.,  3.,  4.,  5.,  6.,  7.,  8.,  9., 10., 11.])\n"
     ]
    }
   ],
   "source": [
    "x=torch.arange(12, dtype=torch.float32)\n",
    "print(x)"
   ]
  },
  {
   "cell_type": "code",
   "execution_count": 9,
   "id": "6fee6593",
   "metadata": {},
   "outputs": [
    {
     "data": {
      "text/plain": [
       "torch.Size([12])"
      ]
     },
     "execution_count": 9,
     "metadata": {},
     "output_type": "execute_result"
    }
   ],
   "source": [
    "x.shape"
   ]
  },
  {
   "cell_type": "code",
   "execution_count": 11,
   "id": "da32fa4d",
   "metadata": {},
   "outputs": [
    {
     "data": {
      "text/plain": [
       "12"
      ]
     },
     "execution_count": 11,
     "metadata": {},
     "output_type": "execute_result"
    }
   ],
   "source": [
    "# product of shape elements = size\n",
    "x.numel()"
   ]
  },
  {
   "cell_type": "code",
   "execution_count": 13,
   "id": "2d6aab28",
   "metadata": {},
   "outputs": [
    {
     "data": {
      "text/plain": [
       "tensor([[ 0.,  1.,  2.,  3.],\n",
       "        [ 4.,  5.,  6.,  7.],\n",
       "        [ 8.,  9., 10., 11.]])"
      ]
     },
     "execution_count": 13,
     "metadata": {},
     "output_type": "execute_result"
    }
   ],
   "source": [
    "x.reshape(3,4)"
   ]
  },
  {
   "cell_type": "code",
   "execution_count": 14,
   "id": "22b16ab2",
   "metadata": {},
   "outputs": [
    {
     "data": {
      "text/plain": [
       "tensor([[ 0.,  1.,  2.,  3.],\n",
       "        [ 4.,  5.,  6.,  7.],\n",
       "        [ 8.,  9., 10., 11.]])"
      ]
     },
     "execution_count": 14,
     "metadata": {},
     "output_type": "execute_result"
    }
   ],
   "source": [
    "# We use -1 to infer the dimension which we don't want to mention. We can only mention one dimension for reshaping.\n",
    "x.reshape(-1,4)"
   ]
  },
  {
   "cell_type": "code",
   "execution_count": 25,
   "id": "991c5d08",
   "metadata": {},
   "outputs": [
    {
     "name": "stdout",
     "output_type": "stream",
     "text": [
      "tensor([[-1.4577, -0.1835,  0.8727,  0.2685],\n",
      "        [ 0.9325,  0.4865,  0.5609,  0.1360],\n",
      "        [-0.9898, -0.6708, -0.2339,  0.1831]])\n"
     ]
    }
   ],
   "source": [
    "y = torch.ones(3,4)\n",
    "z = torch.randn(3,4)\n",
    "torch.zeros(2,3)\n",
    "print(z)\n",
    "# Each element is randomly sampled from a standard Gaussian (normal) distribution with mean of 0 and standard deviation of 1."
   ]
  },
  {
   "cell_type": "code",
   "execution_count": 23,
   "id": "150e2025",
   "metadata": {},
   "outputs": [
    {
     "name": "stdout",
     "output_type": "stream",
     "text": [
      "tensor([[ 0.6365, -0.3415,  0.9114, -0.7631,  1.0000,  1.0000,  1.0000,  1.0000],\n",
      "        [-0.3760, -0.5320, -0.3938, -0.3913,  1.0000,  1.0000,  1.0000,  1.0000],\n",
      "        [ 0.9139,  0.3775,  0.5525,  0.5932,  1.0000,  1.0000,  1.0000,  1.0000]])\n",
      "tensor([[ 0.6365, -0.3415,  0.9114, -0.7631],\n",
      "        [-0.3760, -0.5320, -0.3938, -0.3913],\n",
      "        [ 0.9139,  0.3775,  0.5525,  0.5932],\n",
      "        [ 1.0000,  1.0000,  1.0000,  1.0000],\n",
      "        [ 1.0000,  1.0000,  1.0000,  1.0000],\n",
      "        [ 1.0000,  1.0000,  1.0000,  1.0000]])\n"
     ]
    }
   ],
   "source": [
    "# A binary scalar operator takes two real inputs and yields on output by the signature f : R, R → R\n",
    "print(torch.concat((z,y), dim=1)) # Add data as new columns\n",
    "print(torch.concat((z,y), dim=0)) # Add data as new rows"
   ]
  },
  {
   "cell_type": "code",
   "execution_count": 27,
   "id": "90767ffb",
   "metadata": {},
   "outputs": [
    {
     "name": "stdout",
     "output_type": "stream",
     "text": [
      "tensor([[False, False, False, False],\n",
      "        [False, False, False, False],\n",
      "        [False, False, False, False]])\n",
      "tensor([-1.5150, -0.3678,  1.1997,  0.5877])\n"
     ]
    },
    {
     "data": {
      "text/plain": [
       "tensor(-0.0954)"
      ]
     },
     "execution_count": 27,
     "metadata": {},
     "output_type": "execute_result"
    }
   ],
   "source": [
    "print(z==y) # Binary tensor via logical statement\n",
    "print(sum(z)) # Addition columnwise\n",
    "z.sum() # Addition of all elements"
   ]
  },
  {
   "cell_type": "code",
   "execution_count": 29,
   "id": "a1ac7d55",
   "metadata": {},
   "outputs": [
    {
     "name": "stdout",
     "output_type": "stream",
     "text": [
      "tensor([[0],\n",
      "        [1],\n",
      "        [2]])\n",
      "tensor([[0, 1]])\n",
      "tensor([[0, 1],\n",
      "        [1, 2],\n",
      "        [2, 3]])\n"
     ]
    }
   ],
   "source": [
    "# To perform element wise operations when shapes of input tensors differ, then we use broadcasting.\n",
    "# Expand one or both array to get same shape. Then apply operation\n",
    "a = torch.arange(3).reshape((3, 1))  # 3x1\n",
    "b = torch.arange(2).reshape((1, 2))  # 1x2\n",
    "print(a)\n",
    "print(b)\n",
    "# Expand both into 3x2 and then add\n",
    "print(a+b)"
   ]
  },
  {
   "cell_type": "code",
   "execution_count": null,
   "id": "ad4e3d7d",
   "metadata": {},
   "outputs": [],
   "source": [
    "# Indexing and Slicing is same"
   ]
  }
 ],
 "metadata": {
  "kernelspec": {
   "display_name": "Python 3 (ipykernel)",
   "language": "python",
   "name": "python3"
  },
  "language_info": {
   "codemirror_mode": {
    "name": "ipython",
    "version": 3
   },
   "file_extension": ".py",
   "mimetype": "text/x-python",
   "name": "python",
   "nbconvert_exporter": "python",
   "pygments_lexer": "ipython3",
   "version": "3.9.7"
  }
 },
 "nbformat": 4,
 "nbformat_minor": 5
}
