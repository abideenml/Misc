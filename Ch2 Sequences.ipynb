{
 "cells": [
  {
   "cell_type": "markdown",
   "id": "b5434785",
   "metadata": {},
   "source": [
    "A container sequence holds references to the objects it contains, which may be of any type, while a flat sequence stores the value of its contents in its own memory space, not as distinct Python objects.\n",
    "Mutable sequences: For example, list, bytearray, array.array, and collections.deque.\n",
    "Immutable sequences: For example, tuple, str, and bytes.\n",
    "A quick way to build a sequence is using a list comprehension (if the target is a list) or a generator expression (for other kinds of sequences).\n",
    "List comprehension: codes = [ord(symbol) for symbol in symbols]"
   ]
  },
  {
   "cell_type": "code",
   "execution_count": 3,
   "id": "2b26142f",
   "metadata": {},
   "outputs": [],
   "source": [
    "# Walrus operator: variables assigned with the “Walrus operator” := remain accessible after those comprehensions or\n",
    "# expressions return—unlike local variables in a function.\n",
    "x='ABC'\n",
    "codes = [last := ord(c) for c in x]\n",
    "# print(last) # 67\n",
    "# print(c) # name 'c' is not defined"
   ]
  },
  {
   "cell_type": "code",
   "execution_count": 11,
   "id": "5917bf8a",
   "metadata": {},
   "outputs": [
    {
     "name": "stdout",
     "output_type": "stream",
     "text": [
      "[65, 66, 67, 68, 90, 88]\n",
      "<map object at 0x000002A9AAFC03A0>\n"
     ]
    }
   ],
   "source": [
    "# Map/Filter operation\n",
    "# Map will apply the same function (first argument) to all the elements of its second element.\n",
    "symbols= 'ABCDZX'\n",
    "out = list(filter(lambda c: c > 17, map(ord, symbols)))\n",
    "print(out)"
   ]
  },
  {
   "cell_type": "code",
   "execution_count": 12,
   "id": "e10d61d7",
   "metadata": {},
   "outputs": [
    {
     "data": {
      "text/plain": [
       "(65, 66, 67, 68, 90, 88)"
      ]
     },
     "execution_count": 12,
     "metadata": {},
     "output_type": "execute_result"
    }
   ],
   "source": [
    "# Generator expressions\n",
    "# Genexp saves memory because it yields items one by one using the iterator protocol instead of building a whole list just \n",
    "# to feed another constructor. Genexps use the same syntax as listcomps, but are enclosed in parentheses rather than brackets.\n",
    "tuple(ord(symbol) for symbol in symbols) "
   ]
  },
  {
   "cell_type": "code",
   "execution_count": null,
   "id": "77dd36ca",
   "metadata": {},
   "outputs": [],
   "source": [
    "# Tuples\n",
    "# Tuples do double duty: they can be used as immutable lists and also as records with no field names. A tuple uses less memory \n",
    "# than a list of the same length, and it allows Python to do some optimizations. Tuple supports all list methods that do\n",
    "# not involve adding or removing items, with one exception—tuple lacks the __reversed__ method."
   ]
  },
  {
   "cell_type": "code",
   "execution_count": 13,
   "id": "4b8ecc5f",
   "metadata": {},
   "outputs": [],
   "source": [
    "# Unpacking Sequences\n",
    "# The most visible form of unpacking is parallel assignment; that is, assigning items from an iterable to a tuple of variables.\n",
    "# Defining function parameters with *args to grab arbitrary excess arguments is a classic Python feature.\n",
    "a, b, *rest = range(5)"
   ]
  },
  {
   "cell_type": "code",
   "execution_count": null,
   "id": "a1d36865",
   "metadata": {},
   "outputs": [],
   "source": [
    "# The special method that makes += work is __iadd__ (for “in-place addition”). However, if __iadd__ is not implemented, \n",
    "# Python falls back to calling __add__. Avoid putting mutable items in tuples.  Augmented assignment is not an atomic \n",
    "# operation—we just saw it throwing an exception after doing part of its job.\n",
    "\n",
    "# An array saves a lot of memory when you need to handle millions of floating-point values. On the other hand, if you are \n",
    "# constantly adding and removing items from opposite ends of a list, it’s good to know that a deque (double-ended queue) \n",
    "# is a more efficient FIFO14 data structure. If your code frequently checks whether an item is present in a collection \n",
    "# (e.g., item in my_collection), consider using a set for my_collection, especially if it holds a large number of items. Sets\n",
    "# are optimized for fast membership checking. They are also iterable, but they are not sequences because the ordering of set \n",
    "# items is unspecified.\n",
    "\n",
    "# A memoryview is essentially a generalized NumPy array structure in Python itself (without the math). It allows you to share memory between data-structures (things like\n",
    "# PIL images, SQLite databases, NumPy arrays, etc.) without first copying. This is very important for large data sets."
   ]
  }
 ],
 "metadata": {
  "kernelspec": {
   "display_name": "Python 3 (ipykernel)",
   "language": "python",
   "name": "python3"
  },
  "language_info": {
   "codemirror_mode": {
    "name": "ipython",
    "version": 3
   },
   "file_extension": ".py",
   "mimetype": "text/x-python",
   "name": "python",
   "nbconvert_exporter": "python",
   "pygments_lexer": "ipython3",
   "version": "3.9.7"
  }
 },
 "nbformat": 4,
 "nbformat_minor": 5
}
