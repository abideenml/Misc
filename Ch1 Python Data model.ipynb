{
 "cells": [
  {
   "cell_type": "markdown",
   "id": "23f541e2",
   "metadata": {},
   "source": [
    "Data model is a description of python as a framework. It formalizes the interfaces of building blocks of that language.\n",
    "The python interpreter invokes special methods for basic object operations. Special methods have leading and trailing double underscores. mylist[3] corresponds to mylist.__getitem__(3). These methods are also called magic and dunder methods. If we implement __getitem__ method, we automatically can use [] operations including slicing and iterate as well. The\n",
    "__len__ and __getitem__ implementations can delegate all the work to a list object.\n",
    "\n",
    "The special methods are meant to be called by the interpreter only. The only special method that is frequently called by user code directly is __init__ to invoke the initializer of the superclass in your own __init__ implementation."
   ]
  },
  {
   "cell_type": "code",
   "execution_count": null,
   "id": "bac77086",
   "metadata": {},
   "outputs": [],
   "source": [
    "import math\n",
    "class Vector:\n",
    "    def __init__(self,x=0,y=0):\n",
    "        self.x=x\n",
    "        self.y=y\n",
    "    def __repr__(self):  # For string representation of object\n",
    "        # The f-string in our __repr__ uses !r to get the standard representation of the attributes to be displayed.\n",
    "        return f'Vector({self.x!r},{self.y!r})'\n",
    "    def __abs__(self):\n",
    "        return math.hypot(self.x, self.y)\n",
    "    def __bool__(self):\n",
    "        return bool(abs(self))\n",
    "    def __add__(self,other):\n",
    "        x=self.x + other.x\n",
    "        y=self.y + self.y\n",
    "        return Vector(x,y)\n",
    "    def __mul__(self,scalar):\n",
    "        return Vector((self.x)*scalar, (self.y)*scalar)\n",
    "    # Infix operaters returned a new Vector"
   ]
  },
  {
   "cell_type": "markdown",
   "id": "cf81ccc2",
   "metadata": {},
   "source": [
    "Implement __repr__ for any class you implement. This should be second nature. Implement __str__ if you think it would be useful to have a string version which errs on the side of readability. __bool__ returns False if the magnitude of the vector is zero, True otherwise. Three essential interfaces that every class must implement are: Iterable, sized and container(in operator).\n",
    "Python calls a reversed operator special method on the second operand when the corresponding special method on the first operand cannot be used."
   ]
  }
 ],
 "metadata": {
  "kernelspec": {
   "display_name": "Python 3 (ipykernel)",
   "language": "python",
   "name": "python3"
  },
  "language_info": {
   "codemirror_mode": {
    "name": "ipython",
    "version": 3
   },
   "file_extension": ".py",
   "mimetype": "text/x-python",
   "name": "python",
   "nbconvert_exporter": "python",
   "pygments_lexer": "ipython3",
   "version": "3.9.7"
  }
 },
 "nbformat": 4,
 "nbformat_minor": 5
}
