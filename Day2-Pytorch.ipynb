{
 "cells": [
  {
   "cell_type": "markdown",
   "id": "ba89a2e5",
   "metadata": {},
   "source": [
    "# Linear Algebra"
   ]
  },
  {
   "cell_type": "code",
   "execution_count": 2,
   "id": "137ac6b2",
   "metadata": {},
   "outputs": [],
   "source": [
    "import torch"
   ]
  },
  {
   "cell_type": "code",
   "execution_count": 23,
   "id": "7b67c2d8",
   "metadata": {},
   "outputs": [
    {
     "name": "stdout",
     "output_type": "stream",
     "text": [
      "tensor([[-1.1612, -0.1066,  0.7112, -2.0103]]) tensor([[ 0.7529, -0.9706, -0.0561,  1.1510]])\n"
     ]
    },
    {
     "data": {
      "text/plain": [
       "tensor(-3.1245)"
      ]
     },
     "execution_count": 23,
     "metadata": {},
     "output_type": "execute_result"
    }
   ],
   "source": [
    "# Dot product of two VECTORS\n",
    "X=torch.randn((1,4))\n",
    "Y=torch.randn((1,4))\n",
    "print(X,Y)\n",
    "torch.dot(X[0],Y[0])"
   ]
  },
  {
   "cell_type": "code",
   "execution_count": null,
   "id": "04d5fd8b",
   "metadata": {},
   "outputs": [],
   "source": [
    "# When we normalize the two vectors to have a unit length, their dot product tells the cosine of the angle between them.\n",
    "# When weights are positive and sum to 1, then dot product is called weighted average."
   ]
  },
  {
   "cell_type": "code",
   "execution_count": 30,
   "id": "298c9267",
   "metadata": {},
   "outputs": [
    {
     "name": "stdout",
     "output_type": "stream",
     "text": [
      "tensor([[-0.2197, -0.5776,  0.1494],\n",
      "        [ 0.1942, -0.7180, -1.3790]])\n",
      "tensor([0., 1., 2.])\n",
      "tensor([-0.2787, -3.4760]) torch.Size([2])\n"
     ]
    }
   ],
   "source": [
    "# Matrix Vector product\n",
    "A=torch.randn((2,3), dtype=torch.float32)\n",
    "x=torch.arange(3, dtype=torch.float32)\n",
    "print(A)\n",
    "print(x)\n",
    "y = torch.mv(A,x)\n",
    "print(y, y.shape)\n",
    "\n",
    "# A=[2,3], x=[3] -----> y=[2]\n",
    "# A useful transformation from 3 to 2 dimension."
   ]
  },
  {
   "cell_type": "code",
   "execution_count": 31,
   "id": "88834e52",
   "metadata": {},
   "outputs": [
    {
     "data": {
      "text/plain": [
       "tensor([[ 3.8165,  0.5862,  2.6685, -2.8223],\n",
       "        [ 0.3464, -0.7907, -0.0780,  1.9494],\n",
       "        [ 2.4999, -1.1593,  3.1194,  0.7055]])"
      ]
     },
     "execution_count": 31,
     "metadata": {},
     "output_type": "execute_result"
    }
   ],
   "source": [
    "# Matrix Matrix product\n",
    "A=torch.randn(3,3)\n",
    "B=torch.randn(3,4)\n",
    "torch.mm(A,B)"
   ]
  }
 ],
 "metadata": {
  "kernelspec": {
   "display_name": "Python 3 (ipykernel)",
   "language": "python",
   "name": "python3"
  },
  "language_info": {
   "codemirror_mode": {
    "name": "ipython",
    "version": 3
   },
   "file_extension": ".py",
   "mimetype": "text/x-python",
   "name": "python",
   "nbconvert_exporter": "python",
   "pygments_lexer": "ipython3",
   "version": "3.9.7"
  }
 },
 "nbformat": 4,
 "nbformat_minor": 5
}
