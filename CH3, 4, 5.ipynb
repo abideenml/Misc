{
 "cells": [
  {
   "cell_type": "markdown",
   "id": "dabc0807",
   "metadata": {},
   "source": [
    "Hash tables are the engines behind Python’s high-performance dicts. Other built-in types based on hash tables are set and frozenset."
   ]
  },
  {
   "cell_type": "code",
   "execution_count": 1,
   "id": "113daeae",
   "metadata": {},
   "outputs": [
    {
     "name": "stdout",
     "output_type": "stream",
     "text": [
      "{'Pak': 32, 'India': 33}\n"
     ]
    }
   ],
   "source": [
    "# Dict comprehension\n",
    "dial_codes = [(32,'Pak'),(33,'India')]\n",
    "country_dial = {country: code for code, country in dial_codes}\n",
    "print(country_dial)"
   ]
  },
  {
   "cell_type": "code",
   "execution_count": 11,
   "id": "5a4d2fbc",
   "metadata": {},
   "outputs": [
    {
     "name": "stdout",
     "output_type": "stream",
     "text": [
      "{'1': 2, '3': 4, 'y': 4}\n",
      "{'a': 2, 'b': 4, 'c': 6}\n",
      "{'a': 2, 'b': 4, 'c': 6}\n"
     ]
    }
   ],
   "source": [
    "# Unpacking Mappings with **. No duplicate keyword arguments allowed.\n",
    "def dump(**kwargs):\n",
    "    print(kwargs)\n",
    "dump(**{'1':2,'3':4},y=4)\n",
    "\n",
    "{'a': 0, **{'x': 1}, 'y': 2, **{'z': 3, 'x': 4}}\n",
    "# Duplicate entries that come later overwrite the previous ones.\n",
    "# Merging mappings (Union Operator)\n",
    "d1 = {'a': 1, 'b': 3}\n",
    "d2 = {'a': 2, 'b': 4, 'c': 6}\n",
    "print(d1 | d2)\n",
    "d1 |= d2    # Inplace merging\n",
    "print(d1)"
   ]
  },
  {
   "cell_type": "markdown",
   "id": "dfdd7fda",
   "metadata": {},
   "source": [
    "An object is hashable if it has a hash code which never changes during its lifetime (it needs a __hash__() method), and can be compared to other objects (it needs an __eq__() method). Hashable objects which compare equal must have the same hash\n",
    "code. Numeric types and flat immutable types str and bytes are all hashable. Container types are hashable if they are immutable and all contained objects are also hashable."
   ]
  },
  {
   "cell_type": "markdown",
   "id": "5e698df5",
   "metadata": {},
   "source": [
    "# Ch 5: Data Class Builders"
   ]
  },
  {
   "cell_type": "markdown",
   "id": "6b59870c",
   "metadata": {},
   "source": [
    "Python offers a few ways to build a simple class that is just a collection of fields, with little or no extra functionality. That pattern is known as a “data class”—and data classes is one of the packages that supports this pattern. Three\n",
    "different class builders that you may use as shortcuts to write data classes:\n",
    "1) collections.namedtuple: The simplest way—available\n",
    "2) typing.NamedTuple: requires type hints on the fields—since\n",
    "3) @dataclasses.dataclass: A class decorator that allows more customization than previous alternatives, adding lots of options and potential complexity"
   ]
  },
  {
   "cell_type": "code",
   "execution_count": null,
   "id": "f7f6556b",
   "metadata": {},
   "outputs": [],
   "source": [
    "# Traditional Data class\n",
    "class Coordinate:\n",
    " def __init__(self, lat, lon):\n",
    "     self.lat = lat\n",
    "     self.lon = lon\n",
    "    \n",
    "    "
   ]
  }
 ],
 "metadata": {
  "kernelspec": {
   "display_name": "Python 3 (ipykernel)",
   "language": "python",
   "name": "python3"
  },
  "language_info": {
   "codemirror_mode": {
    "name": "ipython",
    "version": 3
   },
   "file_extension": ".py",
   "mimetype": "text/x-python",
   "name": "python",
   "nbconvert_exporter": "python",
   "pygments_lexer": "ipython3",
   "version": "3.9.7"
  }
 },
 "nbformat": 4,
 "nbformat_minor": 5
}
