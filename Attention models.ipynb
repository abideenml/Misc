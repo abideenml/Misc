{
 "cells": [
  {
   "cell_type": "code",
   "execution_count": 61,
   "id": "6563ae26",
   "metadata": {},
   "outputs": [],
   "source": [
    "from d2l import torch as d2l\n",
    "import math\n",
    "import torch\n",
    "from torch import nn\n",
    "x = torch.arange(16, dtype = torch.float32).reshape(2,2,4)"
   ]
  },
  {
   "cell_type": "code",
   "execution_count": 57,
   "id": "5bce2434",
   "metadata": {},
   "outputs": [],
   "source": [
    "# Some text sequences are padded with special tokens that do not carry meaning. To get an attention pooling over only \n",
    "# meaningful tokens as values, we can specify a valid sequence length (in number of tokens) to filter out those beyond this \n",
    "# specifiedrange when computing softmax.\n",
    "\n",
    "def masked_softmax(X, valid_lens):\n",
    "    \"\"\"Perform softmax operation by masking elements on the last axis.\"\"\"\n",
    "    # `X`: 3D tensor, `valid_lens`: 1D or 2D tensor\n",
    "    if valid_lens is None:\n",
    "        # Sum along every slice of width will be 1\n",
    "        return nn.functional.softmax(X, dim=-1)\n",
    "    else:\n",
    "        shape = X.shape\n",
    "        print(shape[1])\n",
    "        if valid_lens.dim() == 1:\n",
    "            valid_lens = torch.repeat_interleave(valid_lens, shape[1])\n",
    "            print(valid_lens)\n",
    "        else:\n",
    "            valid_lens = valid_lens.reshape(-1)\n",
    "        # On the last axis, replace masked elements with a very large negative\n",
    "        # value, whose exponentiation outputs 0\n",
    "        X = d2l.sequence_mask(X.reshape(-1, shape[-1]), valid_lens,value=-1e6)\n",
    "        return nn.functional.softmax(X.reshape(shape), dim=-1)"
   ]
  },
  {
   "cell_type": "code",
   "execution_count": 62,
   "id": "602dbc71",
   "metadata": {},
   "outputs": [
    {
     "name": "stdout",
     "output_type": "stream",
     "text": [
      "tensor([[[ 0.,  1.,  2.,  3.],\n",
      "         [ 4.,  5.,  6.,  7.]],\n",
      "\n",
      "        [[ 8.,  9., 10., 11.],\n",
      "         [12., 13., 14., 15.]]])\n",
      "2\n",
      "tensor([2, 2, 3, 3])\n"
     ]
    },
    {
     "data": {
      "text/plain": [
       "tensor([[[0.3755, 0.6245, 0.0000, 0.0000],\n",
       "         [0.6540, 0.3460, 0.0000, 0.0000]],\n",
       "\n",
       "        [[0.3787, 0.3050, 0.3163, 0.0000],\n",
       "         [0.2806, 0.4673, 0.2522, 0.0000]]])"
      ]
     },
     "execution_count": 62,
     "metadata": {},
     "output_type": "execute_result"
    }
   ],
   "source": [
    "print(x)\n",
    "masked_softmax(torch.rand(2, 2, 4), torch.tensor([2, 3]))"
   ]
  },
  {
   "cell_type": "code",
   "execution_count": 86,
   "id": "b23d78a2",
   "metadata": {},
   "outputs": [
    {
     "name": "stdout",
     "output_type": "stream",
     "text": [
      "torch.Size([2, 1, 10, 8])\n",
      "torch.Size([2, 1, 10, 1])\n",
      "torch.Size([2, 1, 10])\n",
      "1\n",
      "tensor([2, 6])\n"
     ]
    },
    {
     "data": {
      "text/plain": [
       "tensor([[[ 2.2222,  3.3333,  4.4444,  5.5556]],\n",
       "\n",
       "        [[11.1111, 12.2222, 13.3333, 14.4444]]], grad_fn=<BmmBackward0>)"
      ]
     },
     "execution_count": 86,
     "metadata": {},
     "output_type": "execute_result"
    }
   ],
   "source": [
    "# Additive Attention\n",
    "# When queries and keys are vectors of different lengths, we can use additive attention as the scoring function. The query and \n",
    "# the key are concatenated and fed into an MLP with a single hidden layer whose number of hidden units is h, a hyperparameter. \n",
    "# By using tanh as the activation function and disabling bias terms.\n",
    "\n",
    "class AdditiveAttention(nn.Module):\n",
    "    \"\"\"Additive attention.\"\"\"\n",
    "    def __init__(self, key_size, query_size, num_hiddens, dropout, **kwargs):\n",
    "        super(AdditiveAttention, self).__init__(**kwargs)\n",
    "        self.W_k = nn.Linear(key_size, num_hiddens, bias=False)\n",
    "        self.W_q = nn.Linear(query_size, num_hiddens, bias=False)\n",
    "        self.w_v = nn.Linear(num_hiddens, 1, bias=False)\n",
    "        self.dropout = nn.Dropout(dropout)\n",
    "    def forward(self, queries, keys, values, valid_lens):\n",
    "        queries, keys = self.W_q(queries), self.W_k(keys)\n",
    "#         print(queries.shape)\n",
    "#         print(keys.shape)\n",
    "#         print('Queries unsqueeze:', queries.unsqueeze(2).shape)\n",
    "#         print('Keys unsqueeze:', keys.unsqueeze(1).shape)\n",
    "        features = queries.unsqueeze(2) + keys.unsqueeze(1)\n",
    "        print(features.shape)\n",
    "        features = torch.tanh(features)\n",
    "        # There is only one output of `self.w_v`, so we remove the last\n",
    "        # one-dimensional entry from the shape. Shape of `scores`:\n",
    "        # (`batch_size`, no. of queries, no. of key-value pairs)\n",
    "        scores = self.w_v(features).squeeze(-1)\n",
    "        print(self.w_v(features).shape)\n",
    "        print(scores.shape)\n",
    "        self.attention_weights = masked_softmax(scores, valid_lens)\n",
    "        # Shape of `values`: (`batch_size`, no. of key-value pairs, value\n",
    "        # dimension)\n",
    "        return torch.bmm(self.dropout(self.attention_weights), values)\n",
    "    \n",
    "queries, keys = torch.normal(0, 1, (2, 1, 20)), torch.ones((2, 10, 2))\n",
    "# print(queries)\n",
    "# print(keys)\n",
    "# The two value matrices in the `values` minibatch are identical\n",
    "values = torch.arange(40, dtype=torch.float32).reshape(1, 10, 4).repeat(2, 1, 1)\n",
    "# print(values)\n",
    "valid_lens = torch.tensor([2, 6])\n",
    "attention = AdditiveAttention(key_size=2, query_size=20, num_hiddens=8,dropout=0.1)\n",
    "# print(attention.eval())\n",
    "attention(queries, keys, values, valid_lens)"
   ]
  },
  {
   "cell_type": "code",
   "execution_count": 90,
   "id": "9de21ea7",
   "metadata": {},
   "outputs": [
    {
     "name": "stdout",
     "output_type": "stream",
     "text": [
      "torch.Size([2, 1, 2])\n",
      "torch.Size([2, 10, 2])\n",
      "Scores:  torch.Size([2, 1, 10])\n",
      "1\n",
      "tensor([2, 6])\n"
     ]
    },
    {
     "data": {
      "text/plain": [
       "<function print>"
      ]
     },
     "execution_count": 90,
     "metadata": {},
     "output_type": "execute_result"
    }
   ],
   "source": [
    "# Scaled Dot Product Attention\n",
    "#  When queries and keys are vectors of different lengths, we can use the additive attention scoring function. When they are \n",
    "# the same, the scaled dot-product attention scoring function is more computationally efficient.\n",
    "\n",
    "class DotProductAttention(nn.Module):\n",
    "    \"\"\"Scaled dot product attention.\"\"\"\n",
    "    def __init__(self, dropout, **kwargs):\n",
    "        super(DotProductAttention, self).__init__(**kwargs)\n",
    "        self.dropout = nn.Dropout(dropout)\n",
    "        # Shape of `queries`: (`batch_size`, no. of queries, `d`)\n",
    "        # Shape of `keys`: (`batch_size`, no. of key-value pairs, `d`)\n",
    "        # Shape of `values`: (`batch_size`, no. of key-value pairs, value\n",
    "        # dimension)\n",
    "        # Shape of `valid_lens`: (`batch_size`,) or (`batch_size`, no. of queries)\n",
    "    def forward(self, queries, keys, values, valid_lens=None):\n",
    "        d = queries.shape[-1]\n",
    "        # Set `transpose_b=True` to swap the last two dimensions of `keys`\n",
    "        scores = torch.bmm(queries, keys.transpose(1,2)) / math.sqrt(d)\n",
    "        print('Scores: ',scores.shape)\n",
    "        self.attention_weights = masked_softmax(scores, valid_lens)\n",
    "        return torch.bmm(self.dropout(self.attention_weights), values)\n",
    "queries = torch.normal(0, 1, (2, 1, 2))\n",
    "attention = DotProductAttention(dropout=0.5)\n",
    "attention.eval()\n",
    "print(queries.shape)\n",
    "print(keys.shape)\n",
    "attention(queries, keys, values, valid_lens)\n",
    "print"
   ]
  }
 ],
 "metadata": {
  "kernelspec": {
   "display_name": "Python 3 (ipykernel)",
   "language": "python",
   "name": "python3"
  },
  "language_info": {
   "codemirror_mode": {
    "name": "ipython",
    "version": 3
   },
   "file_extension": ".py",
   "mimetype": "text/x-python",
   "name": "python",
   "nbconvert_exporter": "python",
   "pygments_lexer": "ipython3",
   "version": "3.9.7"
  }
 },
 "nbformat": 4,
 "nbformat_minor": 5
}
