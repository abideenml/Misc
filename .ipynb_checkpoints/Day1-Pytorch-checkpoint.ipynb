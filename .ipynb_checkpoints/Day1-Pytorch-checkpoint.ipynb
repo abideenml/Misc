{
 "cells": [
  {
   "cell_type": "markdown",
   "id": "cb34096b",
   "metadata": {},
   "source": [
    "# CHAPTER: 1"
   ]
  },
  {
   "cell_type": "code",
   "execution_count": null,
   "id": "8a288dc5",
   "metadata": {},
   "outputs": [],
   "source": [
    "import numpy as np\n",
    "import torch\n",
    "import torchvision\n",
    "from PIL import Image\n",
    "from torch import nn\n",
    "from torch.nn import functional as F\n",
    "from torch.utils import data\n",
    "from torchvision import transforms"
   ]
  },
  {
   "cell_type": "markdown",
   "id": "4085b8b2",
   "metadata": {},
   "source": [
    "Difference between Numpy array and Tensors?\n",
    "\n",
    "Numpy array does not support GPU computation while Tensors do. Tensor class also supports automatic differentiation. "
   ]
  },
  {
   "cell_type": "markdown",
   "id": "eca25b08",
   "metadata": {},
   "source": [
    "# Math and Numerical Computing tools"
   ]
  },
  {
   "cell_type": "code",
   "execution_count": 8,
   "id": "6938b41e",
   "metadata": {},
   "outputs": [
    {
     "name": "stdout",
     "output_type": "stream",
     "text": [
      "tensor([ 0.,  1.,  2.,  3.,  4.,  5.,  6.,  7.,  8.,  9., 10., 11.])\n"
     ]
    }
   ],
   "source": [
    "x=torch.arange(12, dtype=torch.float32)\n",
    "print(x)"
   ]
  },
  {
   "cell_type": "code",
   "execution_count": 9,
   "id": "8ce3ab57",
   "metadata": {},
   "outputs": [
    {
     "data": {
      "text/plain": [
       "torch.Size([12])"
      ]
     },
     "execution_count": 9,
     "metadata": {},
     "output_type": "execute_result"
    }
   ],
   "source": [
    "x.shape"
   ]
  },
  {
   "cell_type": "code",
   "execution_count": 11,
   "id": "20e07d32",
   "metadata": {},
   "outputs": [
    {
     "data": {
      "text/plain": [
       "12"
      ]
     },
     "execution_count": 11,
     "metadata": {},
     "output_type": "execute_result"
    }
   ],
   "source": [
    "# product of shape elements = size\n",
    "x.numel()"
   ]
  },
  {
   "cell_type": "code",
   "execution_count": 13,
   "id": "95706c8c",
   "metadata": {},
   "outputs": [
    {
     "data": {
      "text/plain": [
       "tensor([[ 0.,  1.,  2.,  3.],\n",
       "        [ 4.,  5.,  6.,  7.],\n",
       "        [ 8.,  9., 10., 11.]])"
      ]
     },
     "execution_count": 13,
     "metadata": {},
     "output_type": "execute_result"
    }
   ],
   "source": [
    "x.reshape(3,4)"
   ]
  },
  {
   "cell_type": "code",
   "execution_count": 14,
   "id": "68caa3b1",
   "metadata": {},
   "outputs": [
    {
     "data": {
      "text/plain": [
       "tensor([[ 0.,  1.,  2.,  3.],\n",
       "        [ 4.,  5.,  6.,  7.],\n",
       "        [ 8.,  9., 10., 11.]])"
      ]
     },
     "execution_count": 14,
     "metadata": {},
     "output_type": "execute_result"
    }
   ],
   "source": [
    "# We use -1 to infer the dimension which we don't want to mention. We can only mention one dimension for reshaping.\n",
    "x.reshape(-1,4)"
   ]
  },
  {
   "cell_type": "code",
   "execution_count": 25,
   "id": "d40796ef",
   "metadata": {},
   "outputs": [
    {
     "name": "stdout",
     "output_type": "stream",
     "text": [
      "tensor([[-1.4577, -0.1835,  0.8727,  0.2685],\n",
      "        [ 0.9325,  0.4865,  0.5609,  0.1360],\n",
      "        [-0.9898, -0.6708, -0.2339,  0.1831]])\n"
     ]
    }
   ],
   "source": [
    "y = torch.ones(3,4)\n",
    "z = torch.randn(3,4)\n",
    "torch.zeros(2,3)\n",
    "print(z)\n",
    "# Each element is randomly sampled from a standard Gaussian (normal) distribution with mean of 0 and standard deviation of 1."
   ]
  },
  {
   "cell_type": "code",
   "execution_count": 23,
   "id": "d986fcc7",
   "metadata": {},
   "outputs": [
    {
     "name": "stdout",
     "output_type": "stream",
     "text": [
      "tensor([[ 0.6365, -0.3415,  0.9114, -0.7631,  1.0000,  1.0000,  1.0000,  1.0000],\n",
      "        [-0.3760, -0.5320, -0.3938, -0.3913,  1.0000,  1.0000,  1.0000,  1.0000],\n",
      "        [ 0.9139,  0.3775,  0.5525,  0.5932,  1.0000,  1.0000,  1.0000,  1.0000]])\n",
      "tensor([[ 0.6365, -0.3415,  0.9114, -0.7631],\n",
      "        [-0.3760, -0.5320, -0.3938, -0.3913],\n",
      "        [ 0.9139,  0.3775,  0.5525,  0.5932],\n",
      "        [ 1.0000,  1.0000,  1.0000,  1.0000],\n",
      "        [ 1.0000,  1.0000,  1.0000,  1.0000],\n",
      "        [ 1.0000,  1.0000,  1.0000,  1.0000]])\n"
     ]
    }
   ],
   "source": [
    "# A binary scalar operator takes two real inputs and yields on output by the signature f : R, R → R\n",
    "print(torch.concat((z,y), dim=1)) # Add data as new columns\n",
    "print(torch.concat((z,y), dim=0)) # Add data as new rows"
   ]
  },
  {
   "cell_type": "code",
   "execution_count": 27,
   "id": "e672386a",
   "metadata": {},
   "outputs": [
    {
     "name": "stdout",
     "output_type": "stream",
     "text": [
      "tensor([[False, False, False, False],\n",
      "        [False, False, False, False],\n",
      "        [False, False, False, False]])\n",
      "tensor([-1.5150, -0.3678,  1.1997,  0.5877])\n"
     ]
    },
    {
     "data": {
      "text/plain": [
       "tensor(-0.0954)"
      ]
     },
     "execution_count": 27,
     "metadata": {},
     "output_type": "execute_result"
    }
   ],
   "source": [
    "print(z==y) # Binary tensor via logical statement\n",
    "print(sum(z)) # Addition columnwise\n",
    "z.sum() # Addition of all elements"
   ]
  },
  {
   "cell_type": "code",
   "execution_count": 29,
   "id": "7aafa281",
   "metadata": {},
   "outputs": [
    {
     "name": "stdout",
     "output_type": "stream",
     "text": [
      "tensor([[0],\n",
      "        [1],\n",
      "        [2]])\n",
      "tensor([[0, 1]])\n",
      "tensor([[0, 1],\n",
      "        [1, 2],\n",
      "        [2, 3]])\n"
     ]
    }
   ],
   "source": [
    "# To perform element wise operations when shapes of input tensors differ, then we use broadcasting.\n",
    "# Expand one or both array to get same shape. Then apply operation\n",
    "a = torch.arange(3).reshape((3, 1))  # 3x1\n",
    "b = torch.arange(2).reshape((1, 2))  # 1x2\n",
    "print(a)\n",
    "print(b)\n",
    "# Expand both into 3x2 and then add\n",
    "print(a+b)"
   ]
  },
  {
   "cell_type": "code",
   "execution_count": 31,
   "id": "58978630",
   "metadata": {},
   "outputs": [
    {
     "name": "stdout",
     "output_type": "stream",
     "text": [
      "tensor([[-1.4577, -0.1835,  0.8727,  0.2685],\n",
      "        [ 0.9325,  0.4865,  0.5609,  0.1360],\n",
      "        [-0.9898, -0.6708, -0.2339,  0.1831]])\n"
     ]
    },
    {
     "data": {
      "text/plain": [
       "tensor([[-1.4577, -0.1835,  0.8727,  0.2685],\n",
       "        [ 0.9325,  0.4865,  0.5609,  0.1360]])"
      ]
     },
     "execution_count": 31,
     "metadata": {},
     "output_type": "execute_result"
    }
   ],
   "source": [
    "# Indexing and Slicing is same as Python\n",
    "print(z)\n",
    "z[0:2,:]"
   ]
  },
  {
   "cell_type": "code",
   "execution_count": 36,
   "id": "ea94839b",
   "metadata": {},
   "outputs": [
    {
     "name": "stdout",
     "output_type": "stream",
     "text": [
      "tensor([[-0.0465, -0.0202,  0.0899],\n",
      "        [ 0.4066,  0.1466,  1.1341],\n",
      "        [-0.3661,  1.0781, -0.3074]])\n",
      "tensor([[-0.6304, -0.3096, -0.5855],\n",
      "        [ 0.1792,  0.3272,  0.6653],\n",
      "        [-0.4328,  0.2723, -0.7143]]) 2006090526128\n",
      "tensor([[-0.6770, -0.3298, -0.4956],\n",
      "        [ 0.5858,  0.4738,  1.7995],\n",
      "        [-0.7989,  1.3504, -1.0217]]) 2006090526128\n",
      "tensor([[-0.7235, -0.3501, -0.4058],\n",
      "        [ 0.9924,  0.6205,  2.9336],\n",
      "        [-1.1650,  2.4285, -1.3292]]) 2006090471840\n"
     ]
    }
   ],
   "source": [
    "# To avoid allocation of new memory in case of operations like (Y = X + Y), use:\n",
    "X=torch.randn(3,3)\n",
    "Y=torch.randn(3,3)\n",
    "print(X)\n",
    "print(Y,id(Y))\n",
    "Y[:] = X+Y\n",
    "print(Y, id(Y))\n",
    "Y = X+Y\n",
    "print(Y, id(Y)) # Different memory location"
   ]
  },
  {
   "cell_type": "code",
   "execution_count": 34,
   "id": "1e55424a",
   "metadata": {},
   "outputs": [
    {
     "name": "stdout",
     "output_type": "stream",
     "text": [
      "<class 'numpy.ndarray'> <class 'torch.Tensor'>\n"
     ]
    }
   ],
   "source": [
    "q = X.numpy() # Conversion of tensor to numpy array\n",
    "x = torch.from_numpy(q) # Conversion of numpy array to tensor \n",
    "print(type(q),type(x))"
   ]
  },
  {
   "cell_type": "code",
   "execution_count": 37,
   "id": "298ac43d",
   "metadata": {},
   "outputs": [
    {
     "data": {
      "text/plain": [
       "tensor([[  0.,   1.,   4.,   9.],\n",
       "        [ 16.,  25.,  36.,  49.],\n",
       "        [ 64.,  81., 100., 121.],\n",
       "        [144., 169., 196., 225.],\n",
       "        [256., 289., 324., 361.]])"
      ]
     },
     "execution_count": 37,
     "metadata": {},
     "output_type": "execute_result"
    }
   ],
   "source": [
    "# Hadamard product is elementwise multiplication\n",
    "A = torch.arange(20, dtype=torch.float32).reshape(5, 4)\n",
    "B = A.clone() # Assign a copy of `A` to `B` by allocating new memory\n",
    "A*B"
   ]
  },
  {
   "cell_type": "code",
   "execution_count": 41,
   "id": "5ce0365d",
   "metadata": {},
   "outputs": [
    {
     "name": "stdout",
     "output_type": "stream",
     "text": [
      "tensor(2.1151)\n",
      "tensor([-0.0060,  1.2045,  0.9166])\n",
      "tensor(0.2350)\n",
      "tensor([[ 0.,  1.,  2.,  3.],\n",
      "        [ 4.,  6.,  8., 10.],\n",
      "        [12., 15., 18., 21.],\n",
      "        [24., 28., 32., 36.],\n",
      "        [40., 45., 50., 55.]])\n"
     ]
    }
   ],
   "source": [
    "# Reduction: Getting a scalar from a tensor\n",
    "print(X.sum())\n",
    "print(X.sum(axis=0)) # Sum along the row\n",
    "print(X.mean())\n",
    "print(A.cumsum(axis=0)) # Non reduction sum"
   ]
  }
 ],
 "metadata": {
  "kernelspec": {
   "display_name": "Python 3 (ipykernel)",
   "language": "python",
   "name": "python3"
  },
  "language_info": {
   "codemirror_mode": {
    "name": "ipython",
    "version": 3
   },
   "file_extension": ".py",
   "mimetype": "text/x-python",
   "name": "python",
   "nbconvert_exporter": "python",
   "pygments_lexer": "ipython3",
   "version": "3.9.7"
  }
 },
 "nbformat": 4,
 "nbformat_minor": 5
}
